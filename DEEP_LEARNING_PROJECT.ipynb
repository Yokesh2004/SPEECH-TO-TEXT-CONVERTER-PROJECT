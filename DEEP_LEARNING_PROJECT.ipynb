{
  "cells": [
    {
      "cell_type": "markdown",
      "metadata": {
        "id": "view-in-github",
        "colab_type": "text"
      },
      "source": [
        "<a href=\"https://colab.research.google.com/github/Yokesh2004/SPEECH-TO-TEXT-CONVERTER-PROJECT/blob/main/DEEP_LEARNING_PROJECT.ipynb\" target=\"_parent\"><img src=\"https://colab.research.google.com/assets/colab-badge.svg\" alt=\"Open In Colab\"/></a>"
      ]
    },
    {
      "cell_type": "code",
      "execution_count": null,
      "metadata": {
        "colab": {
          "base_uri": "https://localhost:8080/"
        },
        "id": "OARX-zY-Qs8K",
        "outputId": "3f70fdbd-91e1-4462-e820-906d6e3fa487"
      },
      "outputs": [
        {
          "output_type": "stream",
          "name": "stdout",
          "text": [
            "Collecting SpeechRecognition\n",
            "  Downloading SpeechRecognition-3.10.0-py2.py3-none-any.whl (32.8 MB)\n",
            "\u001b[2K     \u001b[90m━━━━━━━━━━━━━━━━━━━━━━━━━━━━━━━━━━━━━━━━\u001b[0m \u001b[32m32.8/32.8 MB\u001b[0m \u001b[31m57.5 MB/s\u001b[0m eta \u001b[36m0:00:00\u001b[0m\n",
            "\u001b[?25hCollecting pydub\n",
            "  Downloading pydub-0.25.1-py2.py3-none-any.whl (32 kB)\n",
            "Requirement already satisfied: requests>=2.26.0 in /usr/local/lib/python3.10/dist-packages (from SpeechRecognition) (2.31.0)\n",
            "Requirement already satisfied: charset-normalizer<4,>=2 in /usr/local/lib/python3.10/dist-packages (from requests>=2.26.0->SpeechRecognition) (3.3.0)\n",
            "Requirement already satisfied: idna<4,>=2.5 in /usr/local/lib/python3.10/dist-packages (from requests>=2.26.0->SpeechRecognition) (3.4)\n",
            "Requirement already satisfied: urllib3<3,>=1.21.1 in /usr/local/lib/python3.10/dist-packages (from requests>=2.26.0->SpeechRecognition) (2.0.6)\n",
            "Requirement already satisfied: certifi>=2017.4.17 in /usr/local/lib/python3.10/dist-packages (from requests>=2.26.0->SpeechRecognition) (2023.7.22)\n",
            "Installing collected packages: pydub, SpeechRecognition\n",
            "Successfully installed SpeechRecognition-3.10.0 pydub-0.25.1\n"
          ]
        }
      ],
      "source": [
        "# Install the required library\n",
        "!pip install SpeechRecognition pydub"
      ]
    },
    {
      "cell_type": "code",
      "execution_count": null,
      "metadata": {
        "colab": {
          "base_uri": "https://localhost:8080/"
        },
        "id": "6nwTXZMWRKSe",
        "outputId": "32ebebf8-f120-423c-c2d7-dbd897605bab"
      },
      "outputs": [
        {
          "output_type": "stream",
          "name": "stdout",
          "text": [
            "Requirement already satisfied: SpeechRecognition in /usr/local/lib/python3.10/dist-packages (3.10.0)\n",
            "Collecting gTTS\n",
            "  Downloading gTTS-2.4.0-py3-none-any.whl (29 kB)\n",
            "Requirement already satisfied: requests>=2.26.0 in /usr/local/lib/python3.10/dist-packages (from SpeechRecognition) (2.31.0)\n",
            "Requirement already satisfied: click<8.2,>=7.1 in /usr/local/lib/python3.10/dist-packages (from gTTS) (8.1.7)\n",
            "Requirement already satisfied: charset-normalizer<4,>=2 in /usr/local/lib/python3.10/dist-packages (from requests>=2.26.0->SpeechRecognition) (3.3.0)\n",
            "Requirement already satisfied: idna<4,>=2.5 in /usr/local/lib/python3.10/dist-packages (from requests>=2.26.0->SpeechRecognition) (3.4)\n",
            "Requirement already satisfied: urllib3<3,>=1.21.1 in /usr/local/lib/python3.10/dist-packages (from requests>=2.26.0->SpeechRecognition) (2.0.6)\n",
            "Requirement already satisfied: certifi>=2017.4.17 in /usr/local/lib/python3.10/dist-packages (from requests>=2.26.0->SpeechRecognition) (2023.7.22)\n",
            "Installing collected packages: gTTS\n",
            "Successfully installed gTTS-2.4.0\n"
          ]
        }
      ],
      "source": [
        "# Install the necessary libraries\n",
        "!pip install SpeechRecognition gTTS"
      ]
    },
    {
      "cell_type": "code",
      "execution_count": null,
      "metadata": {
        "colab": {
          "base_uri": "https://localhost:8080/"
        },
        "id": "wP_N4QK32pAl",
        "outputId": "b2ad364d-1a3f-490a-e60d-c60aa0cd6e35"
      },
      "outputs": [
        {
          "output_type": "stream",
          "name": "stdout",
          "text": [
            "Requirement already satisfied: SpeechRecognition in /usr/local/lib/python3.10/dist-packages (3.10.0)\n",
            "Requirement already satisfied: pydub in /usr/local/lib/python3.10/dist-packages (0.25.1)\n",
            "Requirement already satisfied: requests>=2.26.0 in /usr/local/lib/python3.10/dist-packages (from SpeechRecognition) (2.31.0)\n",
            "Requirement already satisfied: charset-normalizer<4,>=2 in /usr/local/lib/python3.10/dist-packages (from requests>=2.26.0->SpeechRecognition) (3.3.0)\n",
            "Requirement already satisfied: idna<4,>=2.5 in /usr/local/lib/python3.10/dist-packages (from requests>=2.26.0->SpeechRecognition) (3.4)\n",
            "Requirement already satisfied: urllib3<3,>=1.21.1 in /usr/local/lib/python3.10/dist-packages (from requests>=2.26.0->SpeechRecognition) (2.0.6)\n",
            "Requirement already satisfied: certifi>=2017.4.17 in /usr/local/lib/python3.10/dist-packages (from requests>=2.26.0->SpeechRecognition) (2023.7.22)\n"
          ]
        }
      ],
      "source": [
        "!pip install SpeechRecognition pydub"
      ]
    },
    {
      "cell_type": "code",
      "execution_count": null,
      "metadata": {
        "colab": {
          "base_uri": "https://localhost:8080/",
          "height": 405
        },
        "id": "-P6vxbfDsx5W",
        "outputId": "a9cc2396-9991-4cf8-f2d4-f0c63ef55822"
      },
      "outputs": [
        {
          "name": "stdout",
          "output_type": "stream",
          "text": [
            "Select an option:\n",
            "1. Speech to Text\n",
            "2. Text to Speech\n",
            "3. Exit\n",
            "Enter your choice: 1\n",
            "Enter the path to the audio file (MP3): /content/download.mp3\n",
            "Transcription: hi hello bro\n",
            "Select an option:\n",
            "1. Speech to Text\n",
            "2. Text to Speech\n",
            "3. Exit\n",
            "Enter your choice: 2\n",
            "Enter the text to convert to speech: HAI YOKESH WHAT ARE YOU DOING\n"
          ]
        },
        {
          "output_type": "display_data",
          "data": {
            "text/plain": [
              "<IPython.lib.display.Audio object>"
            ],
            "text/html": [
              "\n",
              "                <audio  controls=\"controls\" >\n",
              "                    <source src=\"data:audio/mpeg;base64,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\" type=\"audio/mpeg\" />\n",
              "                    Your browser does not support the audio element.\n",
              "                </audio>\n",
              "              "
            ]
          },
          "metadata": {}
        },
        {
          "output_type": "stream",
          "name": "stdout",
          "text": [
            "Select an option:\n",
            "1. Speech to Text\n",
            "2. Text to Speech\n",
            "3. Exit\n",
            "Enter your choice: 3\n",
            "Exiting the program...\n"
          ]
        }
      ],
      "source": [
        "import speech_recognition as sr\n",
        "from gtts import gTTS\n",
        "import IPython.display as ipd\n",
        "from pydub import AudioSegment\n",
        "\n",
        "# Initialize the recognizer\n",
        "recognizer = sr.Recognizer()\n",
        "\n",
        "# Function for speech-to-text\n",
        "def speech_to_text():\n",
        "    with sr.Microphone() as source:\n",
        "        print(\"Listening to your speech...\")\n",
        "        audio = recognizer.listen(source)\n",
        "\n",
        "        try:\n",
        "            text = recognizer.recognize_google(audio)\n",
        "            return text\n",
        "        except sr.UnknownValueError:\n",
        "            print(\"Could not understand audio\")\n",
        "        except sr.RequestError as e:\n",
        "            print(\"Could not request results; {0}\".format(e))\n",
        "\n",
        "    return None\n",
        "\n",
        "# Function for text-to-speech\n",
        "def text_to_speech(text):\n",
        "    tts = gTTS(text)\n",
        "    tts.save(\"output.mp3\")\n",
        "    ipd.display(ipd.Audio(\"output.mp3\"))  # Play the generated audio\n",
        "\n",
        "# Function to convert MP3 to WAV\n",
        "def mp3_to_wav(mp3_file, wav_file):\n",
        "    audio = AudioSegment.from_mp3(mp3_file)\n",
        "    audio.export(wav_file, format=\"wav\")\n",
        "\n",
        "# Function to transcribe audio\n",
        "def audio_to_text(audio_file):\n",
        "    recognizer = sr.Recognizer()\n",
        "    with sr.AudioFile(audio_file) as source:\n",
        "        audio_data = recognizer.record(source)\n",
        "        try:\n",
        "            text = recognizer.recognize_google(audio_data)\n",
        "            return text\n",
        "        except sr.UnknownValueError:\n",
        "            return \"Speech Recognition could not understand audio\"\n",
        "        except sr.RequestError as e:\n",
        "            return f\"Could not request results from Google Web Speech API; {e}\"\n",
        "\n",
        "# Main loop\n",
        "while True:\n",
        "    print(\"Select an option:\")\n",
        "    print(\"1. Speech to Text\")\n",
        "    print(\"2. Text to Speech\")\n",
        "    print(\"3. Exit\")\n",
        "\n",
        "    choice = input(\"Enter your choice: \")\n",
        "\n",
        "    if choice == '1':\n",
        "        input_mp3_file = input(\"Enter the path to the audio file (MP3): \")\n",
        "        output_wav_file = \"audio.wav\"\n",
        "        mp3_to_wav(input_mp3_file, output_wav_file)\n",
        "        transcription = audio_to_text(output_wav_file)\n",
        "        print(\"Transcription:\", transcription)\n",
        "    elif choice == '2':\n",
        "        text = input(\"Enter the text to convert to speech: \")\n",
        "        text_to_speech(text)\n",
        "    elif choice == '3':\n",
        "        print(\"Exiting the program...\")\n",
        "        break\n",
        "    else:\n",
        "        print(\"Invalid choice. Please try again.\")\n"
      ]
    },
    {
      "cell_type": "code",
      "source": [],
      "metadata": {
        "id": "Lab8rpkIPPlw"
      },
      "execution_count": null,
      "outputs": []
    }
  ],
  "metadata": {
    "colab": {
      "provenance": [],
      "authorship_tag": "ABX9TyOOkx3dy0MBvmKVnnPRcPgA",
      "include_colab_link": true
    },
    "kernelspec": {
      "display_name": "Python 3",
      "name": "python3"
    },
    "language_info": {
      "name": "python"
    }
  },
  "nbformat": 4,
  "nbformat_minor": 0
}